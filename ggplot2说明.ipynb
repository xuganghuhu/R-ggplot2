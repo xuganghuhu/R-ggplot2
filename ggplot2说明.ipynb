{
 "cells": [
  {
   "cell_type": "markdown",
   "metadata": {},
   "source": [
    "# ggplot2是什么？\n",
    "\n",
    "## 一句话概括：它是一个用来绘制统计图形(不只是统计图形)的R包！\n",
    "\n",
    "为什么叫ggplot呢？其中的gg当然不是Good Game的意思，而是Grammar of Graphics，直译就是绘图的语法，  \n",
    "这是一门学问，绘图的学问。后面会介绍其与众不同的语法。\n",
    "\n",
    "作者是Hadley Wickham，下面我们先瞻仰一下大神，沾点灵气，为后续的ggplot学习之路打好基础。"
   ]
  },
  {
   "cell_type": "markdown",
   "metadata": {},
   "source": [
    "![](https://img-blog.csdn.net/20180331095725646?watermark/2/text/aHR0cHM6Ly9ibG9nLmNzZG4ubmV0L3dlaXhpbl80MTkyOTUyNA==/font/5a6L5L2T/fontsize/400/fill/I0JBQkFCMA==/dissolve/70)\n"
   ]
  },
  {
   "cell_type": "markdown",
   "metadata": {},
   "source": [
    "说起这位作者，可就厉害了。他是RStudio公司的首席科学家，在博士期间其实就已经开发出了ggplot包，后面觉得写的不行，于是推陈出新，天空一声巨响，ggplot2闪亮登场。由于这个包实在是太好用了，所以渐渐的，如今Python等多个编程语言都有了其对应的库。\n",
    "\n",
    "当然，如果仅仅凭借ggplot2，Wickham还无法成为RStudio公司的首席科学家，他还是dplyr，devtools，readxl，rvest等包的作者，是一位全能型大神。\n",
    "\n",
    "与此同时，在工作之外，他擅长烘焙和调制鸡尾酒，并且还有自己的家庭食谱网站。真的非常的腻害！"
   ]
  },
  {
   "cell_type": "markdown",
   "metadata": {},
   "source": [
    "![](https://img-blog.csdn.net/20180331102318365?watermark/2/text/aHR0cHM6Ly9ibG9nLmNzZG4ubmV0L3dlaXhpbl80MTkyOTUyNA==/font/5a6L5L2T/fontsize/400/fill/I0JBQkFCMA==/dissolve/70)\n"
   ]
  },
  {
   "cell_type": "markdown",
   "metadata": {},
   "source": [
    "![](https://img-blog.csdn.net/20180331102822769?watermark/2/text/aHR0cHM6Ly9ibG9nLmNzZG4ubmV0L3dlaXhpbl80MTkyOTUyNA==/font/5a6L5L2T/fontsize/400/fill/I0JBQkFCMA==/dissolve/70)"
   ]
  },
  {
   "cell_type": "markdown",
   "metadata": {},
   "source": [
    "![](https://img-blog.csdn.net/20180331102408241?watermark/2/text/aHR0cHM6Ly9ibG9nLmNzZG4ubmV0L3dlaXhpbl80MTkyOTUyNA==/font/5a6L5L2T/fontsize/400/fill/I0JBQkFCMA==/dissolve/70)"
   ]
  },
  {
   "cell_type": "markdown",
   "metadata": {},
   "source": [
    "![](https://img-blog.csdn.net/20180331102421674?watermark/2/text/aHR0cHM6Ly9ibG9nLmNzZG4ubmV0L3dlaXhpbl80MTkyOTUyNA==/font/5a6L5L2T/fontsize/400/fill/I0JBQkFCMA==/dissolve/70)"
   ]
  },
  {
   "cell_type": "markdown",
   "metadata": {},
   "source": [
    "![]()"
   ]
  }
 ],
 "metadata": {
  "kernelspec": {
   "display_name": "Python 3",
   "language": "python",
   "name": "python3"
  },
  "language_info": {
   "codemirror_mode": {
    "name": "ipython",
    "version": 3
   },
   "file_extension": ".py",
   "mimetype": "text/x-python",
   "name": "python",
   "nbconvert_exporter": "python",
   "pygments_lexer": "ipython3",
   "version": "3.6.4"
  }
 },
 "nbformat": 4,
 "nbformat_minor": 2
}
